{
 "cells": [
  {
   "cell_type": "code",
   "execution_count": 1,
   "id": "brutal-yield",
   "metadata": {},
   "outputs": [],
   "source": [
    "from tkinter import *\n",
    "  \n",
    "import calendar \n",
    "  \n",
    "def showCal() : \n",
    "    new_gui = Tk() \n",
    "    new_gui.config(background = \"white\") \n",
    "    new_gui.title(\"CALENDER\") \n",
    "    new_gui.geometry(\"550x600\") \n",
    "    fetch_year = int(year_field.get()) \n",
    "    cal_content = calendar.calendar(fetch_year) \n",
    "    cal_year = Label(new_gui, text = cal_content, font = \"Consolas 10 bold\") \n",
    "    cal_year.grid(row = 5, column = 1, padx = 20) \n",
    "    new_gui.mainloop() \n",
    "  \n",
    "\n",
    "if __name__ == \"__main__\" : \n",
    "    gui = Tk() \n",
    "    gui.config(background = \"white\") \n",
    "    gui.title(\"CALENDER\")  \n",
    "    gui.geometry(\"250x140\")  \n",
    "    cal = Label(gui, text = \"CALENDAR\", bg = \"dark gray\", \n",
    "                            font = (\"times\", 28, 'bold')) \n",
    "    year = Label(gui, text = \"Enter Year\", bg = \"light green\")    \n",
    "    year_field = Entry(gui) \n",
    "    Show = Button(gui, text = \"Show Calendar\", fg = \"Black\", \n",
    "                              bg = \"Red\", command = showCal) \n",
    "    Exit = Button(gui, text = \"Exit\", fg = \"Black\", bg = \"Red\", command = exit)  \n",
    "    cal.grid(row = 1, column = 1) \n",
    "    year.grid(row = 2, column = 1) \n",
    "    year_field.grid(row = 3, column = 1) \n",
    "    Show.grid(row = 4, column = 1) \n",
    "    Exit.grid(row = 6, column = 1) \n",
    "    gui.mainloop() \n"
   ]
  },
  {
   "cell_type": "code",
   "execution_count": null,
   "id": "ambient-glass",
   "metadata": {},
   "outputs": [],
   "source": []
  }
 ],
 "metadata": {
  "kernelspec": {
   "display_name": "Python 3",
   "language": "python",
   "name": "python3"
  },
  "language_info": {
   "codemirror_mode": {
    "name": "ipython",
    "version": 3
   },
   "file_extension": ".py",
   "mimetype": "text/x-python",
   "name": "python",
   "nbconvert_exporter": "python",
   "pygments_lexer": "ipython3",
   "version": "3.9.1"
  }
 },
 "nbformat": 4,
 "nbformat_minor": 5
}
